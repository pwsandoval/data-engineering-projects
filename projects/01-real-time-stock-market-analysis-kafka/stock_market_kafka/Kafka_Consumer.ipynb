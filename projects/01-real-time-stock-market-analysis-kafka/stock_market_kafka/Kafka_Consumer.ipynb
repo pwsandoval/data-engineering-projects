{
 "cells": [
  {
   "cell_type": "code",
   "execution_count": 2,
   "id": "1021345e-6362-4bc0-83c2-85ae24f09cf1",
   "metadata": {},
   "outputs": [],
   "source": [
    "import json\n",
    "import pandas as pd\n",
    "\n",
    "from json import loads\n",
    "from kafka import KafkaConsumer\n",
    "from time import sleep"
   ]
  },
  {
   "cell_type": "code",
   "execution_count": 7,
   "id": "0ee6c11e-685d-4eb4-a4fe-a6fc36ca49c0",
   "metadata": {},
   "outputs": [],
   "source": [
    "def deserializer(x):\n",
    "    return loads(x.decode(\"utf-8\"))"
   ]
  },
  {
   "cell_type": "code",
   "execution_count": 8,
   "id": "165622d9-ca46-48e4-8cec-e8d7f7016c4d",
   "metadata": {},
   "outputs": [],
   "source": [
    "consumer = KafkaConsumer(\n",
    "    \"sample_topic\",\n",
    "    bootstrap_servers=[\"3.86.226.189:9092\"],\n",
    "    value_deserializer=deserializer\n",
    ")"
   ]
  },
  {
   "cell_type": "code",
   "execution_count": null,
   "id": "d3e3593b-89bc-4c3d-b986-52b59248b00b",
   "metadata": {},
   "outputs": [
    {
     "name": "stdout",
     "output_type": "stream",
     "text": [
      "{'user': 'pwss'}\n",
      "{'user': 'pwsm'}\n"
     ]
    }
   ],
   "source": [
    "for c in consumer:\n",
    "    print(c.value)"
   ]
  },
  {
   "cell_type": "code",
   "execution_count": 1,
   "id": "e69b97e7-7f6d-458e-bb3d-ffa04de3d76e",
   "metadata": {},
   "outputs": [],
   "source": [
    "exit()"
   ]
  },
  {
   "cell_type": "code",
   "execution_count": null,
   "id": "3a59a0d4-9221-4c2e-9da8-617aad9bfec6",
   "metadata": {},
   "outputs": [],
   "source": []
  }
 ],
 "metadata": {
  "kernelspec": {
   "display_name": "stock_market_kafka",
   "language": "python",
   "name": "stock_market_kafka"
  },
  "language_info": {
   "codemirror_mode": {
    "name": "ipython",
    "version": 3
   },
   "file_extension": ".py",
   "mimetype": "text/x-python",
   "name": "python",
   "nbconvert_exporter": "python",
   "pygments_lexer": "ipython3",
   "version": "3.10.7"
  }
 },
 "nbformat": 4,
 "nbformat_minor": 5
}
